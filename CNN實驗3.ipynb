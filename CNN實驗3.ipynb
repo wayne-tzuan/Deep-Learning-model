{
 "cells": [
  {
   "cell_type": "markdown",
   "metadata": {},
   "source": [
    "### 實驗版本3  更改lr\n",
    "\n",
    "* 3 次 conv，3 次 max\n",
    "* 2 Dense\n",
    "* output: 10\n",
    "\n",
    "filter 大小 3x3\n",
    "maxpooling 2x2\n",
    "\n",
    "通常 filter 數量會越來越多(V) or 或越來越少\n",
    "\n",
    "* Conv01: 4\n",
    "* Conv02: 8\n",
    "* Conv03: 16\n",
    "\n",
    "------------\n",
    "* Dense01: 17\n",
    "* Dense02: 33\n",
    "\n",
    "------------\n",
    "* loss: mse\n",
    "* activation: relu\n",
    "* Optimizer: SGD\n",
    "* lr: 0.57\n",
    "\n",
    "------------\n",
    "* batch_size: 100\n",
    "* epochs: 20\n",
    "\n",
    "\n"
   ]
  },
  {
   "cell_type": "code",
   "execution_count": 1,
   "metadata": {},
   "outputs": [],
   "source": [
    "%matplotlib inline\n",
    "\n",
    "import pandas as pd\n",
    "import numpy as np\n",
    "import matplotlib.pyplot as plt"
   ]
  },
  {
   "cell_type": "code",
   "execution_count": 2,
   "metadata": {},
   "outputs": [
    {
     "name": "stderr",
     "output_type": "stream",
     "text": [
      "Using TensorFlow backend.\n",
      "/anaconda3/lib/python3.7/site-packages/tensorflow/python/framework/dtypes.py:516: FutureWarning: Passing (type, 1) or '1type' as a synonym of type is deprecated; in a future version of numpy, it will be understood as (type, (1,)) / '(1,)type'.\n",
      "  _np_qint8 = np.dtype([(\"qint8\", np.int8, 1)])\n",
      "/anaconda3/lib/python3.7/site-packages/tensorflow/python/framework/dtypes.py:517: FutureWarning: Passing (type, 1) or '1type' as a synonym of type is deprecated; in a future version of numpy, it will be understood as (type, (1,)) / '(1,)type'.\n",
      "  _np_quint8 = np.dtype([(\"quint8\", np.uint8, 1)])\n",
      "/anaconda3/lib/python3.7/site-packages/tensorflow/python/framework/dtypes.py:518: FutureWarning: Passing (type, 1) or '1type' as a synonym of type is deprecated; in a future version of numpy, it will be understood as (type, (1,)) / '(1,)type'.\n",
      "  _np_qint16 = np.dtype([(\"qint16\", np.int16, 1)])\n",
      "/anaconda3/lib/python3.7/site-packages/tensorflow/python/framework/dtypes.py:519: FutureWarning: Passing (type, 1) or '1type' as a synonym of type is deprecated; in a future version of numpy, it will be understood as (type, (1,)) / '(1,)type'.\n",
      "  _np_quint16 = np.dtype([(\"quint16\", np.uint16, 1)])\n",
      "/anaconda3/lib/python3.7/site-packages/tensorflow/python/framework/dtypes.py:520: FutureWarning: Passing (type, 1) or '1type' as a synonym of type is deprecated; in a future version of numpy, it will be understood as (type, (1,)) / '(1,)type'.\n",
      "  _np_qint32 = np.dtype([(\"qint32\", np.int32, 1)])\n",
      "/anaconda3/lib/python3.7/site-packages/tensorflow/python/framework/dtypes.py:525: FutureWarning: Passing (type, 1) or '1type' as a synonym of type is deprecated; in a future version of numpy, it will be understood as (type, (1,)) / '(1,)type'.\n",
      "  np_resource = np.dtype([(\"resource\", np.ubyte, 1)])\n",
      "/anaconda3/lib/python3.7/site-packages/tensorboard/compat/tensorflow_stub/dtypes.py:541: FutureWarning: Passing (type, 1) or '1type' as a synonym of type is deprecated; in a future version of numpy, it will be understood as (type, (1,)) / '(1,)type'.\n",
      "  _np_qint8 = np.dtype([(\"qint8\", np.int8, 1)])\n",
      "/anaconda3/lib/python3.7/site-packages/tensorboard/compat/tensorflow_stub/dtypes.py:542: FutureWarning: Passing (type, 1) or '1type' as a synonym of type is deprecated; in a future version of numpy, it will be understood as (type, (1,)) / '(1,)type'.\n",
      "  _np_quint8 = np.dtype([(\"quint8\", np.uint8, 1)])\n",
      "/anaconda3/lib/python3.7/site-packages/tensorboard/compat/tensorflow_stub/dtypes.py:543: FutureWarning: Passing (type, 1) or '1type' as a synonym of type is deprecated; in a future version of numpy, it will be understood as (type, (1,)) / '(1,)type'.\n",
      "  _np_qint16 = np.dtype([(\"qint16\", np.int16, 1)])\n",
      "/anaconda3/lib/python3.7/site-packages/tensorboard/compat/tensorflow_stub/dtypes.py:544: FutureWarning: Passing (type, 1) or '1type' as a synonym of type is deprecated; in a future version of numpy, it will be understood as (type, (1,)) / '(1,)type'.\n",
      "  _np_quint16 = np.dtype([(\"quint16\", np.uint16, 1)])\n",
      "/anaconda3/lib/python3.7/site-packages/tensorboard/compat/tensorflow_stub/dtypes.py:545: FutureWarning: Passing (type, 1) or '1type' as a synonym of type is deprecated; in a future version of numpy, it will be understood as (type, (1,)) / '(1,)type'.\n",
      "  _np_qint32 = np.dtype([(\"qint32\", np.int32, 1)])\n",
      "/anaconda3/lib/python3.7/site-packages/tensorboard/compat/tensorflow_stub/dtypes.py:550: FutureWarning: Passing (type, 1) or '1type' as a synonym of type is deprecated; in a future version of numpy, it will be understood as (type, (1,)) / '(1,)type'.\n",
      "  np_resource = np.dtype([(\"resource\", np.ubyte, 1)])\n"
     ]
    }
   ],
   "source": [
    "from keras.datasets import mnist"
   ]
  },
  {
   "cell_type": "code",
   "execution_count": 3,
   "metadata": {},
   "outputs": [],
   "source": [
    "(x_train, y_train), (x_test, y_test) = mnist.load_data()"
   ]
  },
  {
   "cell_type": "code",
   "execution_count": 4,
   "metadata": {},
   "outputs": [],
   "source": [
    "x_train = x_train.reshape(60000, 28, 28, 1)\n",
    "x_test = x_test.reshape(10000, 28, 28, 1)"
   ]
  },
  {
   "cell_type": "code",
   "execution_count": 5,
   "metadata": {},
   "outputs": [],
   "source": [
    "from keras.utils import np_utils\n",
    "y_train = np_utils.to_categorical(y_train, 10)\n",
    "y_test = np_utils.to_categorical(y_test, 10)\n",
    "x_train = x_train/255\n",
    "x_test = x_test/255"
   ]
  },
  {
   "cell_type": "code",
   "execution_count": 6,
   "metadata": {},
   "outputs": [],
   "source": [
    "from keras.models import Sequential\n",
    "from keras.layers import Dense, Activation, Flatten\n",
    "from keras.layers import Conv2D, MaxPool2D\n",
    "from keras.optimizers import SGD"
   ]
  },
  {
   "cell_type": "code",
   "execution_count": 7,
   "metadata": {},
   "outputs": [],
   "source": [
    "model = Sequential()"
   ]
  },
  {
   "cell_type": "code",
   "execution_count": 8,
   "metadata": {},
   "outputs": [
    {
     "name": "stdout",
     "output_type": "stream",
     "text": [
      "WARNING:tensorflow:From /anaconda3/lib/python3.7/site-packages/keras/backend/tensorflow_backend.py:4070: The name tf.nn.max_pool is deprecated. Please use tf.nn.max_pool2d instead.\n",
      "\n"
     ]
    }
   ],
   "source": [
    "model.add(Conv2D(4, (3, 3), padding = 'same', input_shape = (28, 28, 1), activation = 'relu'))\n",
    "model.add(MaxPool2D(pool_size = (2,2)))\n",
    "model.add(Conv2D(8, (3, 3), padding = 'same', activation = 'relu'))\n",
    "model.add(MaxPool2D(pool_size = (2,2)))\n",
    "model.add(Conv2D(16, (3, 3), padding = 'same', activation = 'relu'))\n",
    "model.add(MaxPool2D(pool_size = (2,2)))"
   ]
  },
  {
   "cell_type": "code",
   "execution_count": 9,
   "metadata": {},
   "outputs": [],
   "source": [
    "model.add(Flatten())\n",
    "model.add(Dense(17, activation = 'relu'))\n",
    "model.add(Dense(33, activation = 'relu'))\n",
    "model.add(Dense(10, activation = 'softmax'))\n",
    "model.compile(loss='mse', optimizer=SGD(lr=0.57), metrics=['accuracy'])"
   ]
  },
  {
   "cell_type": "code",
   "execution_count": 10,
   "metadata": {},
   "outputs": [
    {
     "name": "stdout",
     "output_type": "stream",
     "text": [
      "Model: \"sequential_1\"\n",
      "_________________________________________________________________\n",
      "Layer (type)                 Output Shape              Param #   \n",
      "=================================================================\n",
      "conv2d_1 (Conv2D)            (None, 28, 28, 4)         40        \n",
      "_________________________________________________________________\n",
      "max_pooling2d_1 (MaxPooling2 (None, 14, 14, 4)         0         \n",
      "_________________________________________________________________\n",
      "conv2d_2 (Conv2D)            (None, 14, 14, 8)         296       \n",
      "_________________________________________________________________\n",
      "max_pooling2d_2 (MaxPooling2 (None, 7, 7, 8)           0         \n",
      "_________________________________________________________________\n",
      "conv2d_3 (Conv2D)            (None, 7, 7, 16)          1168      \n",
      "_________________________________________________________________\n",
      "max_pooling2d_3 (MaxPooling2 (None, 3, 3, 16)          0         \n",
      "_________________________________________________________________\n",
      "flatten_1 (Flatten)          (None, 144)               0         \n",
      "_________________________________________________________________\n",
      "dense_1 (Dense)              (None, 17)                2465      \n",
      "_________________________________________________________________\n",
      "dense_2 (Dense)              (None, 33)                594       \n",
      "_________________________________________________________________\n",
      "dense_3 (Dense)              (None, 10)                340       \n",
      "=================================================================\n",
      "Total params: 4,903\n",
      "Trainable params: 4,903\n",
      "Non-trainable params: 0\n",
      "_________________________________________________________________\n"
     ]
    }
   ],
   "source": [
    "model.summary()"
   ]
  },
  {
   "cell_type": "code",
   "execution_count": null,
   "metadata": {},
   "outputs": [
    {
     "name": "stdout",
     "output_type": "stream",
     "text": [
      "WARNING:tensorflow:From /anaconda3/lib/python3.7/site-packages/keras/backend/tensorflow_backend.py:422: The name tf.global_variables is deprecated. Please use tf.compat.v1.global_variables instead.\n",
      "\n",
      "Epoch 1/20\n",
      "60000/60000 [==============================] - 46s 775us/step - loss: 0.0814 - accuracy: 0.2805\n",
      "Epoch 2/20\n",
      "60000/60000 [==============================] - 45s 749us/step - loss: 0.0236 - accuracy: 0.8353\n",
      "Epoch 3/20\n",
      "60000/60000 [==============================] - 46s 762us/step - loss: 0.0107 - accuracy: 0.9301\n",
      "Epoch 4/20\n",
      "60000/60000 [==============================] - 45s 754us/step - loss: 0.0076 - accuracy: 0.9499\n",
      "Epoch 5/20\n",
      "60000/60000 [==============================] - 47s 776us/step - loss: 0.0065 - accuracy: 0.9574\n",
      "Epoch 6/20\n",
      "60000/60000 [==============================] - 50s 837us/step - loss: 0.0057 - accuracy: 0.9633\n",
      "Epoch 7/20\n",
      "60000/60000 [==============================] - 48s 798us/step - loss: 0.0050 - accuracy: 0.9668\n",
      "Epoch 8/20\n",
      "60000/60000 [==============================] - 46s 761us/step - loss: 0.0045 - accuracy: 0.9705\n",
      "Epoch 9/20\n",
      "60000/60000 [==============================] - 46s 767us/step - loss: 0.0042 - accuracy: 0.9725\n",
      "Epoch 10/20\n",
      "60000/60000 [==============================] - 49s 819us/step - loss: 0.0039 - accuracy: 0.9751\n",
      "Epoch 11/20\n",
      "60000/60000 [==============================] - 53s 875us/step - loss: 0.0037 - accuracy: 0.9762\n",
      "Epoch 12/20\n",
      "60000/60000 [==============================] - 51s 849us/step - loss: 0.0035 - accuracy: 0.9774\n",
      "Epoch 13/20\n",
      "60000/60000 [==============================] - 49s 809us/step - loss: 0.0033 - accuracy: 0.9788\n",
      "Epoch 14/20\n",
      "60000/60000 [==============================] - 49s 820us/step - loss: 0.0031 - accuracy: 0.9799\n",
      "Epoch 15/20\n",
      "60000/60000 [==============================] - 50s 831us/step - loss: 0.0030 - accuracy: 0.9806\n",
      "Epoch 16/20\n",
      "60000/60000 [==============================] - 54s 897us/step - loss: 0.0029 - accuracy: 0.9816\n",
      "Epoch 17/20\n",
      "60000/60000 [==============================] - 52s 871us/step - loss: 0.0028 - accuracy: 0.9819\n",
      "Epoch 18/20\n",
      "60000/60000 [==============================] - 62s 1ms/step - loss: 0.0027 - accuracy: 0.9826\n",
      "Epoch 19/20\n",
      "60000/60000 [==============================] - 56s 934us/step - loss: 0.0027 - accuracy: 0.9827\n",
      "Epoch 20/20\n",
      "13800/60000 [=====>........................] - ETA: 39s - loss: 0.0024 - accuracy: 0.9847"
     ]
    }
   ],
   "source": [
    "model.fit(x_train, y_train, batch_size = 100, epochs = 20)"
   ]
  },
  {
   "cell_type": "code",
   "execution_count": null,
   "metadata": {},
   "outputs": [],
   "source": []
  },
  {
   "cell_type": "code",
   "execution_count": null,
   "metadata": {},
   "outputs": [],
   "source": []
  },
  {
   "cell_type": "code",
   "execution_count": null,
   "metadata": {},
   "outputs": [],
   "source": []
  },
  {
   "cell_type": "code",
   "execution_count": null,
   "metadata": {},
   "outputs": [],
   "source": []
  },
  {
   "cell_type": "code",
   "execution_count": null,
   "metadata": {},
   "outputs": [],
   "source": []
  }
 ],
 "metadata": {
  "kernelspec": {
   "display_name": "Python 3",
   "language": "python",
   "name": "python3"
  },
  "language_info": {
   "codemirror_mode": {
    "name": "ipython",
    "version": 3
   },
   "file_extension": ".py",
   "mimetype": "text/x-python",
   "name": "python",
   "nbconvert_exporter": "python",
   "pygments_lexer": "ipython3",
   "version": "3.7.3"
  }
 },
 "nbformat": 4,
 "nbformat_minor": 2
}
